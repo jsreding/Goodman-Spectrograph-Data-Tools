{
 "cells": [
  {
   "cell_type": "markdown",
   "metadata": {},
   "source": [
    "Telescope of diameter $d$ has area:\n",
    "$$A = \\pi*(d/2)^2$$\n",
    "\n",
    "Given $10^6$ photons emitted at top of atmosphere from a magnitude-0 source, and half lost at ground:\n",
    "$$mag0F = 5\\times10^5 \\bigg[\\frac{photons}{m^2*s}\\bigg]$$\n",
    "\n",
    "A source of magnitude $m$ will produce:\n",
    "$$src = mag0F*10^{m/-2.5} * A \\bigg[\\frac{photons}{s}\\bigg]$$\n",
    "\n",
    "And background sky ($20 \\text{ mags/asec}^2$) in CCD region $npix$ (extent of source on chip) with pixel scale $pxscl$ will produce:\n",
    "$$sky = mag0F*10^{20/-2.5} * A * (npix * pxscl^2) \\bigg[\\frac{photons}{s}\\bigg]$$\n",
    "\n",
    "---\n",
    "\n",
    "Trying to detect variability signal $sig$ from the source with amplitude $amp$ [%]:\n",
    "$$sig = src * amp/100$$\n",
    "\n",
    "At 3 sigma confidence, $SNR = 3$\n",
    "$$SNR = \\frac{sig*t}{\\sqrt{src*t + sky*t}} = \\frac{sig*\\sqrt{t}}{\\sqrt{src + sky}} = 3$$\n",
    "$$t = \\bigg(\\frac{3*\\sqrt{src + sky}}{sig}\\bigg)^2$$"
   ]
  },
  {
   "cell_type": "code",
   "execution_count": null,
   "metadata": {},
   "outputs": [],
   "source": []
  }
 ],
 "metadata": {
  "kernelspec": {
   "display_name": "Python 3",
   "language": "python",
   "name": "python3"
  },
  "language_info": {
   "codemirror_mode": {
    "name": "ipython",
    "version": 3
   },
   "file_extension": ".py",
   "mimetype": "text/x-python",
   "name": "python",
   "nbconvert_exporter": "python",
   "pygments_lexer": "ipython3",
   "version": "3.7.1"
  }
 },
 "nbformat": 4,
 "nbformat_minor": 2
}
